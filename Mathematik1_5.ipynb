{
 "cells": [
  {
   "cell_type": "markdown",
   "id": "08c8b9d3",
   "metadata": {},
   "source": [
    "# Mathematik 1.5 - Modulare Arithmetik"
   ]
  },
  {
   "cell_type": "markdown",
   "id": "98f98219",
   "metadata": {},
   "source": [
    "## Aufgabe 2\n",
    "\n",
    "Probieren Sie die Operationen `<<` und `>>` in der Code-Zelle unten aus, bis Sie sicher sind, dass Sie deren Funktionsweise exakt verstanden haben."
   ]
  },
  {
   "cell_type": "code",
   "execution_count": 1,
   "id": "158c458a",
   "metadata": {},
   "outputs": [
    {
     "data": {
      "text/plain": [
       "'11011000'"
      ]
     },
     "execution_count": 1,
     "metadata": {},
     "output_type": "execute_result"
    }
   ],
   "source": [
    "# Beispiel:\n",
    "'{:b}'.format(0b11011 << 3)"
   ]
  },
  {
   "cell_type": "markdown",
   "id": "d1c8c101",
   "metadata": {},
   "source": [
    "## Aufgabe 3\n",
    "\n",
    "Die Variable `n` ist eine posititive ganze Zahl, z.B. 8. Welcher Zahlen-Wert hat `1 << n` infolgedessen?"
   ]
  },
  {
   "cell_type": "code",
   "execution_count": 1,
   "id": "14e603eb",
   "metadata": {},
   "outputs": [],
   "source": [
    "# Lösen Sie die Aufgabe 3 hier"
   ]
  },
  {
   "cell_type": "markdown",
   "id": "c71a4ad0",
   "metadata": {},
   "source": [
    "## Aufgabe 4\n",
    "\n",
    "Schreiben Sie eine Funktion, welche ihr Argument mit 14 multipliziert. Sie dürfen dabei aber nur `<<` und `+`, **nicht** aber `*` verwenden."
   ]
  },
  {
   "cell_type": "code",
   "execution_count": 3,
   "id": "bd169308",
   "metadata": {},
   "outputs": [],
   "source": [
    "# Funktion, welche ihr Argument mit 14 multipliziert, ohne * zu verwenden.\n",
    "def mult_with_14(x):\n",
    "    pass"
   ]
  },
  {
   "cell_type": "code",
   "execution_count": null,
   "id": "8c5d4bb4",
   "metadata": {},
   "outputs": [],
   "source": [
    "mult_with_14(8) #112"
   ]
  },
  {
   "cell_type": "markdown",
   "id": "e46aa32a",
   "metadata": {},
   "source": [
    "## Aufgabe 7\n",
    "\n",
    "Berechnen Sie mit dem `%`-Operator (Modulo) das Produkt 168 und 27 in der \"8-Bit-Arithmetik\". Benutzen Sie die binäre Darstellung des korrekten Ergebnisses, um zu überprüfen, dass Sie richtig gerechnet haben."
   ]
  },
  {
   "cell_type": "code",
   "execution_count": 4,
   "id": "d605f84e",
   "metadata": {},
   "outputs": [],
   "source": [
    "# Lösen Sie die Aufgabe 7 hier!"
   ]
  },
  {
   "cell_type": "markdown",
   "id": "63726e58",
   "metadata": {},
   "source": [
    "## Aufgabe 12\n",
    "\n",
    "Berechnen Sie 8! in der \"8-Bit-Arithmetik\" auf zwei verschiedene Arten:\n",
    "* Zuerst ermitteln Sie alle Zwischenwerte von 1! bis 8! mit nur acht Bits.\n",
    "* Danach berechnen Sie das korrekte Ergebnis und schneiden davon entsprechend viele Bits ab, dass Sie wieder acht Bits haben."
   ]
  },
  {
   "cell_type": "code",
   "execution_count": 7,
   "id": "d0ba3738",
   "metadata": {},
   "outputs": [],
   "source": [
    "def fact(n):\n",
    "    f = 1\n",
    "    while n > 0:\n",
    "        f *= n\n",
    "        n = n - 1\n",
    "    return f"
   ]
  },
  {
   "cell_type": "code",
   "execution_count": 5,
   "id": "886ed796",
   "metadata": {},
   "outputs": [],
   "source": [
    "# Lösen Sie die Aufgabe 12 hier"
   ]
  },
  {
   "cell_type": "markdown",
   "id": "aa603ea9",
   "metadata": {},
   "source": [
    "## Aufgabe 15\n",
    "\n",
    "Berechnen Sie erneut 30! mit Python und versuchen Sie danach experimentell herauszufinden, wie viele Bits das C-Programm benutzt hat, für welches Sie für 30! 1'409'286'144 erhalten haben."
   ]
  },
  {
   "cell_type": "code",
   "execution_count": 8,
   "id": "688f5c02",
   "metadata": {},
   "outputs": [],
   "source": [
    "# 30! mit Python\n",
    "correct = fact(30)\n",
    "wrong = 1409286144\n",
    "\n",
    "def how_many_bits():\n",
    "    pass"
   ]
  },
  {
   "cell_type": "code",
   "execution_count": 9,
   "id": "08d4f6d8",
   "metadata": {},
   "outputs": [
    {
     "name": "stdout",
     "output_type": "stream",
     "text": [
      "None\n"
     ]
    }
   ],
   "source": [
    "print(how_many_bits())"
   ]
  },
  {
   "cell_type": "markdown",
   "id": "be87db2e",
   "metadata": {},
   "source": [
    "## Aufgabe 21\n",
    "\n",
    "Schreiben Sie eine Funktion `sum_mod(x, y, n)`, die so funktioniert, dass der Funktionsaufruf `sum_mod(x, y, n)` die Summe `x + y` in &#x2124;/n&#x2124; berechnet.\n",
    "\n",
    "Machen Sie auch eine Funktion für Produkte.\n",
    "\n"
   ]
  },
  {
   "cell_type": "code",
   "execution_count": 10,
   "id": "70d680a7",
   "metadata": {},
   "outputs": [],
   "source": [
    "# Funktion für Summen\n",
    "def sum_mod(x, y, n):\n",
    "    pass"
   ]
  },
  {
   "cell_type": "code",
   "execution_count": 11,
   "id": "8be2a1ad",
   "metadata": {},
   "outputs": [],
   "source": [
    "# Funktion für Produkte\n",
    "def prod_mod(x, y, n):\n",
    "    pass"
   ]
  },
  {
   "cell_type": "code",
   "execution_count": 21,
   "id": "aae8a121",
   "metadata": {},
   "outputs": [
    {
     "name": "stdout",
     "output_type": "stream",
     "text": [
      "4\n"
     ]
    }
   ],
   "source": [
    "print(sum_mod(5, 7, 8))"
   ]
  },
  {
   "cell_type": "code",
   "execution_count": 22,
   "id": "ca4d27e6",
   "metadata": {},
   "outputs": [
    {
     "name": "stdout",
     "output_type": "stream",
     "text": [
      "3\n"
     ]
    }
   ],
   "source": [
    "print(prod_mod(5, 7, 8))"
   ]
  },
  {
   "cell_type": "markdown",
   "id": "12f67289",
   "metadata": {},
   "source": [
    "## Aufgabe 22\n",
    "\n",
    "Ist der Wert a = 2<sup>3000</sup> + 41 durch 7 teilbar? Denken Sie zunächst über 2<sup>3</sup> nach.\n"
   ]
  },
  {
   "cell_type": "code",
   "execution_count": 12,
   "id": "590cf696",
   "metadata": {},
   "outputs": [],
   "source": [
    "# Lösen Sie die Aufgabe 22 hier"
   ]
  },
  {
   "cell_type": "markdown",
   "id": "b17a386a",
   "metadata": {},
   "source": [
    "## Aufgabe 24\n",
    "\n",
    "Schreiben Sie je eine Funktion zum Berechnen von Quersummen und iterierten Quersummen."
   ]
  },
  {
   "cell_type": "code",
   "execution_count": 13,
   "id": "e69d3b6a",
   "metadata": {},
   "outputs": [],
   "source": [
    "def digit_sum(n):\n",
    "    pass"
   ]
  },
  {
   "cell_type": "code",
   "execution_count": 14,
   "id": "3f321c00",
   "metadata": {},
   "outputs": [],
   "source": [
    "def iterated_digit_sum(n):\n",
    "   pass"
   ]
  },
  {
   "cell_type": "code",
   "execution_count": 28,
   "id": "bcb5b0d7",
   "metadata": {},
   "outputs": [
    {
     "data": {
      "text/plain": [
       "23"
      ]
     },
     "execution_count": 28,
     "metadata": {},
     "output_type": "execute_result"
    }
   ],
   "source": [
    "digit_sum(8645)"
   ]
  },
  {
   "cell_type": "code",
   "execution_count": 29,
   "id": "7c03d7dc",
   "metadata": {},
   "outputs": [
    {
     "data": {
      "text/plain": [
       "5"
      ]
     },
     "execution_count": 29,
     "metadata": {},
     "output_type": "execute_result"
    }
   ],
   "source": [
    "iterated_digit_sum(8645)"
   ]
  },
  {
   "cell_type": "markdown",
   "id": "0ea38bec",
   "metadata": {},
   "source": [
    "## Aufgabe 26\n",
    "\n",
    "In der folgenden Tabelle sind einige Zahlen zusammen mit ihren fünften Potenzen aufgeführt. Ausserdem ist ein Muster farblich (rot) hervorgehoben, das Ihnen auffallen dürfte. Nutze Python, um zu überprüfen, ob dieses Muster tatsächlich existiert, und erklären Sie anschliessend, warum dieses Muster auftritt.\n",
    "\n",
    "<table>\n",
    "  <tr>\n",
    "    <th style=\"text-align: right;\">a</th>\n",
    "    <th style=\"text-align: right;\">a<sup>5</sup></th>\n",
    "  </tr>\n",
    "  <tr>\n",
    "    <td style=\"text-align: right;\">4<span style=\"color:red;\">2</span></td>\n",
    "    <td style=\"text-align: right;\">130'691'23<span style=\"color:red;\">2</span></td>\n",
    "  </tr>\n",
    "  <tr>\n",
    "    <td style=\"text-align: right;\">10<span style=\"color:red;\">8</span></td>\n",
    "    <td style=\"text-align: right;\">14'693'280'76<span style=\"color:red;\">8</span></td>\n",
    "  </tr>\n",
    "  <tr>\n",
    "    <td style=\"text-align: right;\">7<span style=\"color:red;\">7</span></td>\n",
    "    <td style=\"text-align: right;\">2'706'784'15<span style=\"color:red;\">7</span></td>\n",
    "  </tr>\n",
    "  <tr>\n",
    "    <td style=\"text-align: right;\">21<span style=\"color:red;\">3</span></td>\n",
    "    <td style=\"text-align: right;\">438'427'732'29<span style=\"color:red;\">3</span></td>\n",
    "  </tr>\n",
    "  <tr>\n",
    "    <td style=\"text-align: right;\"><span style=\"color:red;\">6</span></td>\n",
    "    <td style=\"text-align: right;\">7'77<span style=\"color:red;\">6</span></td>\n",
    "  </tr>\n",
    "  <tr>\n",
    "    <td style=\"text-align: right;\">1'00<span style=\"color:red;\">6</span></td>\n",
    "    <td style=\"text-align: right;\">1'030'362'166'487'77<span style=\"color:red;\">6</span></td>\n",
    "  </tr>\n",
    "  <tr>\n",
    "    <td style=\"text-align: right;\">87<span style=\"color:red;\">1</span></td>\n",
    "    <td style=\"text-align: right;\">501'292'001'353'35<span style=\"color:red;\">1</span></td>\n",
    "  </tr>\n",
    "  <tr>\n",
    "    <td style=\"text-align: right;\">9<span style=\"color:red;\">1</span></td>\n",
    "    <td style=\"text-align: right;\">6'240'321'45<span style=\"color:red;\">1</span></td>\n",
    "  </tr>\n",
    "</table>\n",
    "\n"
   ]
  },
  {
   "cell_type": "code",
   "execution_count": 15,
   "id": "d5e8141b",
   "metadata": {},
   "outputs": [],
   "source": [
    "# Prüfen Sie Ihre Vermutung hier!"
   ]
  }
 ],
 "metadata": {
  "kernelspec": {
   "display_name": "venv",
   "language": "python",
   "name": "python3"
  },
  "language_info": {
   "codemirror_mode": {
    "name": "ipython",
    "version": 3
   },
   "file_extension": ".py",
   "mimetype": "text/x-python",
   "name": "python",
   "nbconvert_exporter": "python",
   "pygments_lexer": "ipython3",
   "version": "3.12.7"
  }
 },
 "nbformat": 4,
 "nbformat_minor": 5
}
